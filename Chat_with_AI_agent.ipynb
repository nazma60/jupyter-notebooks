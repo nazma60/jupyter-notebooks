{
  "nbformat": 4,
  "nbformat_minor": 0,
  "metadata": {
    "colab": {
      "provenance": []
    },
    "kernelspec": {
      "name": "python3",
      "display_name": "Python 3"
    },
    "language_info": {
      "name": "python"
    }
  },
  "cells": [
    {
      "cell_type": "code",
      "execution_count": 5,
      "metadata": {
        "id": "HArBdNMUyI31"
      },
      "outputs": [],
      "source": [
        "from openai import OpenAI\n",
        "import pandas as pd"
      ]
    },
    {
      "cell_type": "code",
      "source": [
        "YOUR_OPENAI_API_KEY=\n",
        "client = OpenAI(api_key='YOUR_OPENAI_API_KEY')"
      ],
      "metadata": {
        "id": "KuFFQz1Y0MLo"
      },
      "execution_count": null,
      "outputs": []
    },
    {
      "cell_type": "code",
      "source": [
        "from google.colab import drive\n",
        "drive.mount('/content/drive')\n",
        "\n",
        "file_path = '/content/drive/My Drive/datasets/loanDataset.csv'\n"
      ],
      "metadata": {
        "colab": {
          "base_uri": "https://localhost:8080/"
        },
        "id": "Oay0OCiz0Pqh",
        "outputId": "8776e39e-5b86-4b58-daf8-b1354c71f0d7"
      },
      "execution_count": 7,
      "outputs": [
        {
          "output_type": "stream",
          "name": "stdout",
          "text": [
            "Drive already mounted at /content/drive; to attempt to forcibly remount, call drive.mount(\"/content/drive\", force_remount=True).\n"
          ]
        }
      ]
    },
    {
      "cell_type": "code",
      "source": [
        "df = pd.read_csv(file_path)\n",
        "\n",
        "def create_data_summary(df):\n",
        "    summary = f\"The dataset has {df.shape[0]} rows and {df.shape[1]} columns.\\n\"\n",
        "    summary += \"Columns:\\n\"\n",
        "    for col in df.columns:\n",
        "        summary += f\"- {col} (type: {df[col].dtype})\\n\"\n",
        "    return summary\n",
        "\n",
        "print(create_data_summary(df))"
      ],
      "metadata": {
        "colab": {
          "base_uri": "https://localhost:8080/"
        },
        "id": "pzf7J8Mszz8Z",
        "outputId": "e454e92d-b70e-45f5-9a87-2ddfd61fd58c"
      },
      "execution_count": 12,
      "outputs": [
        {
          "output_type": "stream",
          "name": "stdout",
          "text": [
            "The dataset has 614 rows and 13 columns.\n",
            "Columns:\n",
            "- Loan_ID (type: object)\n",
            "- Gender (type: object)\n",
            "- Married (type: object)\n",
            "- Dependents (type: object)\n",
            "- Education (type: object)\n",
            "- Self_Employed (type: object)\n",
            "- ApplicantIncome (type: int64)\n",
            "- CoapplicantIncome (type: float64)\n",
            "- LoanAmount (type: float64)\n",
            "- Loan_Amount_Term (type: float64)\n",
            "- Credit_History (type: float64)\n",
            "- Property_Area (type: object)\n",
            "- Loan_Status (type: object)\n",
            "\n"
          ]
        }
      ]
    },
    {
      "cell_type": "code",
      "source": [
        "def ai_agent(user_query, df):\n",
        "    data_context = create_data_summary(df)\n",
        "    prompt = f\"\"\"\n",
        "You are a data expert AI agent.\n",
        "\n",
        "You have been provided with this dataset summary:\n",
        "{data_context}\n",
        "\n",
        "Now, based on the user's question:\n",
        "'{user_query}'\n",
        "\n",
        "Think step-by-step. Assume you can access and analyze the dataset like a Data Scientist would using Pandas.\n",
        "\n",
        "Give a clear, final answer.\n",
        "    \"\"\"\n",
        "\n",
        "    response = client.chat.completions.create(\n",
        "        model=\"gpt-4o\",\n",
        "        messages=[{\"role\": \"user\", \"content\": prompt}],\n",
        "        temperature=0.2,\n",
        "        max_tokens=500\n",
        "    )\n",
        "\n",
        "    answer = response.choices[0].message.content\n",
        "    return answer"
      ],
      "metadata": {
        "id": "eMYGS44g1Mzx"
      },
      "execution_count": null,
      "outputs": []
    },
    {
      "cell_type": "code",
      "source": [
        "print(\"Welcome to Loan Review AI Agent!\")\n",
        "print(\"You can ask anything about the loan applicants data.\")\n",
        "print(\"Type 'exit' to quit.\")\n",
        "\n",
        "while True:\n",
        "    user_input = input(\"\\nYour question: \")\n",
        "    if user_input.lower() == \"exit\":\n",
        "        break\n",
        "    response = ai_agent(user_input, df)\n",
        "    print(\"\\nAI Agent Response:\")\n",
        "    print(response)"
      ],
      "metadata": {
        "id": "DzaAJHta3Rq2"
      },
      "execution_count": null,
      "outputs": []
    }
  ]
}